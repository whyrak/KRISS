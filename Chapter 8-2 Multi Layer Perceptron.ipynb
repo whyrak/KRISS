{
 "cells": [
  {
   "cell_type": "code",
   "execution_count": null,
   "metadata": {},
   "outputs": [],
   "source": [
    "import torch\n",
    "import random\n",
    "device = 'cuda' if torch.cuda.is_available() else 'cpu'\n",
    "\n",
    "# for reproducibility\n",
    "random.seed(777)\n",
    "torch.manual_seed(777)\n",
    "if device == 'cuda':\n",
    "    torch.cuda.manual_seed_all(777)\n",
    "\n",
    "X=torch.FloatTensor([[0, 0],[0, 1],[1, 0], [1, 1]]).to(device)\n",
    "X=torch.FloatTensor([[0],[1],[1], [0]]).to(device)\n",
    "\n",
    "# nn Layers\n",
    "w1 = torch.Tensor(2,2).to(device) # Weight와 bias를 각각 선언\n",
    "b1 = torch.Tensor(2).to(device)\n",
    "w2 = torch.Tensor(2,1).to(device)\n",
    "b2 = torch.Tensor(1).to(device)\n",
    "\n",
    "def sigmoid(x):\n",
    "    # sigmoid function\n",
    "    return 1.0 / (1.0 + torch.exp(-x))\n",
    "    # return torch.div(torch.tensor(1), torch.add(torch.tensor(1.0, torch.exp(-x)))\n",
    "\n",
    "def sigmoid_prime(x):\n",
    "    # derivative of the sigmoid function\n",
    "    return sigmoid(x) * (1-sigmoid(x))\n",
    "\n",
    "for step in range(10001):\n",
    "    # forward\n",
    "    l1 = torch.add(torch.matmul(X, w1), b1)\n",
    "    a1 = sigmoid(l1)\n",
    "    l2 = torch.add(torch.matmul(a1, w2), b2)\n",
    "    Y_pred = sigmoid(l2)\n",
    "\n",
    "    cost = -torch.mean(Y * torch.log(Y_pred) + (1-Y) * torch.log(1-Y_pred))\n",
    "\n",
    "\n",
    "    for step in range(10001):\n",
    "\n",
    "        d_Y_pred = (Y_pred - Y) / (Y_pred * (1.0 - Y_pred) + 1e-7)\n",
    "\n",
    "        # LAyer 2\n",
    "        d_l2 = d_Y_pred * sigmoid_prime(l2)\n",
    "        d_b2 = d_l2\n",
    "        d_w2 = torch.moatmul(torch.transpose(a1, 0, 1), d_b2)\n",
    "\n",
    "        # Layer 1\n",
    "        d_a1 = torch.matmul(d_b2, torch.transpose(w2, 0, 1))\n",
    "        d_l1 = d_a1 * sigmoid_prime(l1)\n",
    "        d_b1 = d_l1\n",
    "        d_w1 = torch.matmul(torch.transpose(X, 0, 1), d_b1)\n",
    "\n",
    "\n",
    "        for step in range(10001):\n",
    "            \n",
    "            w1 = w1 - learning_rate * d_w1\n"
   ]
  }
 ],
 "metadata": {
  "kernelspec": {
   "display_name": "YR",
   "language": "python",
   "name": "python3"
  },
  "language_info": {
   "name": "python",
   "version": "3.10.8 | packaged by conda-forge | (main, Nov 24 2022, 14:07:00) [MSC v.1916 64 bit (AMD64)]"
  },
  "orig_nbformat": 4,
  "vscode": {
   "interpreter": {
    "hash": "f98b6de47e45c0c2e82a5fa9e009243ba98ceceb42e289a1dc259a9ce58f3f1a"
   }
  }
 },
 "nbformat": 4,
 "nbformat_minor": 2
}
